{
 "cells": [
  {
   "cell_type": "markdown",
   "id": "5f1ba1a6",
   "metadata": {},
   "source": [
    "# Automatic Rouge evaluation"
   ]
  },
  {
   "cell_type": "code",
   "execution_count": 1,
   "id": "69d69853",
   "metadata": {},
   "outputs": [],
   "source": [
    "import os\n",
    "\n",
    "import numpy as np\n",
    "from rouge_score import rouge_scorer\n",
    "from tqdm import tqdm"
   ]
  },
  {
   "cell_type": "code",
   "execution_count": 2,
   "id": "264697b2",
   "metadata": {},
   "outputs": [],
   "source": [
    "ABSTRACT_PATH = 'abstracts'\n",
    "GENERATED_SUMMARY_PATH = 'gen_summaries'\n",
    "\n",
    "def evaluate_summaries_using_rouge(experiment_name: str):\n",
    "    no_files = len(os.listdir(ABSTRACT_PATH))\n",
    "    rouge_1_scores = np.zeros([no_files, 3])\n",
    "    rouge_2_scores = np.zeros([no_files, 3])\n",
    "    rouge_l_scores = np.zeros([no_files, 3])\n",
    "\n",
    "    for i, filename in tqdm(enumerate(os.listdir(ABSTRACT_PATH))):\n",
    "\n",
    "        # Read paper abstract\n",
    "        with open(f'{ABSTRACT_PATH}/{filename}', 'r') as abstract_file:\n",
    "            paper_abstract = abstract_file.read()\n",
    "\n",
    "        # Read generated summary\n",
    "        with open(f'{GENERATED_SUMMARY_PATH}/{experiment_name}/{filename}', 'r') as summary_file:\n",
    "            generated_summary = summary_file.read()\n",
    "\n",
    "        # Compute rouge scores and store results\n",
    "        rouge = rouge_scorer.RougeScorer(['rouge1', 'rouge2', 'rougeL'], use_stemmer=False)\n",
    "        rouge_scores = rouge.score(paper_abstract, generated_summary)\n",
    "        \n",
    "        rouge_1_scores[i] = list(rouge_scores['rouge1'])\n",
    "        rouge_2_scores[i] = list(rouge_scores['rouge2'])\n",
    "        rouge_l_scores[i] = list(rouge_scores['rougeL'])\n",
    "\n",
    "    # Display average results\n",
    "    print(f'Average rouge-1 score for {experiment_name} experiment: {np.mean(rouge_1_scores[:, 2])}, std:{np.std(rouge_1_scores[:, 2])}')\n",
    "    print(f'Average rouge-2 score for {experiment_name} experiment: {np.mean(rouge_2_scores[:, 2])}, std:{np.std(rouge_2_scores[:, 2])}')\n",
    "    print(f'Average rouge-l score for {experiment_name} experiment: {np.mean(rouge_l_scores[:, 2])}, std:{np.std(rouge_l_scores[:, 2])}')\n",
    "    \n",
    "    # Return results\n",
    "    return rouge_1_scores, rouge_2_scores, rouge_l_scores"
   ]
  },
  {
   "cell_type": "markdown",
   "id": "02986e02",
   "metadata": {},
   "source": [
    "## Baseline (normal tfidf) evaluation"
   ]
  },
  {
   "cell_type": "code",
   "execution_count": 3,
   "id": "da1568fc",
   "metadata": {},
   "outputs": [
    {
     "name": "stderr",
     "output_type": "stream",
     "text": [
      "10148it [07:28, 22.62it/s]"
     ]
    },
    {
     "name": "stdout",
     "output_type": "stream",
     "text": [
      "Average rouge-1 score for tfidf experiment: 0.18711283359480235, std:0.08476868473976243\n",
      "Average rouge-2 score for tfidf experiment: 0.0325325831507373, std:0.025866923845545307\n",
      "Average rouge-l score for tfidf experiment: 0.09540082029241616, std:0.04058176539174261\n"
     ]
    },
    {
     "name": "stderr",
     "output_type": "stream",
     "text": [
      "\n"
     ]
    }
   ],
   "source": [
    "rouge_1_scores_tfidf, rouge_2_scores_tfidf, rouge_l_scores_tfidf = evaluate_summaries_using_rouge('tfidf_2')\n",
    "with open('rouge_1_tfidf.npy', 'wb') as f_rouge_1:\n",
    "    np.save(f_rouge_1, rouge_1_scores_tfidf)\n",
    "    \n",
    "with open('rouge_2_tfidf.npy', 'wb') as f_rouge_2:\n",
    "    np.save(f_rouge_2, rouge_2_scores_tfidf)\n",
    "    \n",
    "with open('rouge_l_tfidf.npy', 'wb') as f_rouge_l:\n",
    "    np.save(f_rouge_l, rouge_l_scores_tfidf)"
   ]
  },
  {
   "cell_type": "code",
   "execution_count": 48,
   "id": "be35d212",
   "metadata": {},
   "outputs": [
    {
     "data": {
      "text/plain": [
       "0.07668224193579935"
      ]
     },
     "execution_count": 48,
     "metadata": {},
     "output_type": "execute_result"
    }
   ],
   "source": [
    "np.mean(rouge_l_scores_tfidf[:, 0])"
   ]
  },
  {
   "cell_type": "markdown",
   "id": "e3466402",
   "metadata": {},
   "source": [
    "## TFIDF + Wordnet evaluation"
   ]
  },
  {
   "cell_type": "code",
   "execution_count": 4,
   "id": "732fae4d",
   "metadata": {},
   "outputs": [
    {
     "name": "stderr",
     "output_type": "stream",
     "text": [
      "10148it [07:18, 23.13it/s]"
     ]
    },
    {
     "name": "stdout",
     "output_type": "stream",
     "text": [
      "Average rouge-1 score for tfidf_wordnet experiment: 0.18805354329981144, std:0.08556898434223188\n",
      "Average rouge-2 score for tfidf_wordnet experiment: 0.032891348870105565, std:0.02605473677146605\n",
      "Average rouge-l score for tfidf_wordnet experiment: 0.09567986842854938, std:0.04074743424021038\n"
     ]
    },
    {
     "name": "stderr",
     "output_type": "stream",
     "text": [
      "\n"
     ]
    }
   ],
   "source": [
    "rouge_1_scores_tfidf_wordnet, rouge_2_scores_tfidf_wordnet, rouge_l_scores_tfidf_wordnet = evaluate_summaries_using_rouge('tfidf_wordnet_2')"
   ]
  },
  {
   "cell_type": "code",
   "execution_count": 6,
   "id": "23fac476",
   "metadata": {},
   "outputs": [],
   "source": [
    "with open('rouge_1_tfidf_wordnet.npy', 'wb') as f_rouge_1:\n",
    "    np.save(f_rouge_1, rouge_1_scores_tfidf_wordnet)\n",
    "    \n",
    "with open('rouge_2_tfidf_wordnet.npy', 'wb') as f_rouge_2:\n",
    "    np.save(f_rouge_2, rouge_2_scores_tfidf_wordnet)\n",
    "    \n",
    "with open('rouge_l_tfidf_wordnet.npy', 'wb') as f_rouge_l:\n",
    "    np.save(f_rouge_l, rouge_l_scores_tfidf_wordnet)"
   ]
  },
  {
   "cell_type": "code",
   "execution_count": 51,
   "id": "9bfe2a93",
   "metadata": {},
   "outputs": [
    {
     "name": "stdout",
     "output_type": "stream",
     "text": [
      "0.09567986842854938\n",
      "0.04074743424021038\n"
     ]
    }
   ],
   "source": [
    "print(np.mean(rouge_l_scores_tfidf_wordnet[:, 2]))\n",
    "print(np.std(rouge_l_scores_tfidf_wordnet[:, 2]))"
   ]
  },
  {
   "cell_type": "markdown",
   "id": "1aacc2dd",
   "metadata": {},
   "source": [
    "## Wordnet Lesk evaluation"
   ]
  },
  {
   "cell_type": "code",
   "execution_count": 5,
   "id": "7c58f72d",
   "metadata": {},
   "outputs": [
    {
     "name": "stderr",
     "output_type": "stream",
     "text": [
      "10148it [08:00, 21.13it/s]"
     ]
    },
    {
     "name": "stdout",
     "output_type": "stream",
     "text": [
      "Average rouge-1 score for wordnet experiment: 0.2195510926243785, std:0.10520157981929261\n",
      "Average rouge-2 score for wordnet experiment: 0.05392322966068278, std:0.04270303097268596\n",
      "Average rouge-l score for wordnet experiment: 0.10904514059906768, std:0.04899882559568424\n"
     ]
    },
    {
     "name": "stderr",
     "output_type": "stream",
     "text": [
      "\n"
     ]
    }
   ],
   "source": [
    "rouge_1_scores_wordnet, rouge_2_scores_wordnet, rouge_l_scores_wordnet = evaluate_summaries_using_rouge('wordnet')"
   ]
  },
  {
   "cell_type": "code",
   "execution_count": 7,
   "id": "fe89d0dc",
   "metadata": {},
   "outputs": [],
   "source": [
    "with open('rouge_1_lesk.npy', 'wb') as f_rouge_1:\n",
    "    np.save(f_rouge_1, rouge_1_scores_wordnet)\n",
    "    \n",
    "with open('rouge_2_lesk.npy', 'wb') as f_rouge_2:\n",
    "    np.save(f_rouge_2, rouge_2_scores_wordnet)\n",
    "    \n",
    "with open('rouge_l_lesk.npy', 'wb') as f_rouge_l:\n",
    "    np.save(f_rouge_l, rouge_l_scores_wordnet)"
   ]
  },
  {
   "cell_type": "code",
   "execution_count": 60,
   "id": "2bc8003a",
   "metadata": {},
   "outputs": [
    {
     "name": "stdout",
     "output_type": "stream",
     "text": [
      "0.10904514059906768\n",
      "0.04899882559568424\n"
     ]
    }
   ],
   "source": [
    "print(np.mean(rouge_l_scores_wordnet[:, 2]))\n",
    "print(np.std(rouge_l_scores_wordnet[:, 2]))"
   ]
  }
 ],
 "metadata": {
  "kernelspec": {
   "display_name": "Python 3 (ipykernel)",
   "language": "python",
   "name": "python3"
  },
  "language_info": {
   "codemirror_mode": {
    "name": "ipython",
    "version": 3
   },
   "file_extension": ".py",
   "mimetype": "text/x-python",
   "name": "python",
   "nbconvert_exporter": "python",
   "pygments_lexer": "ipython3",
   "version": "3.10.0"
  }
 },
 "nbformat": 4,
 "nbformat_minor": 5
}
